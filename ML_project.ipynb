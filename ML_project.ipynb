{
 "cells": [
  {
   "cell_type": "markdown",
   "id": "7b75f601",
   "metadata": {
    "slideshow": {
     "slide_type": "slide"
    }
   },
   "source": [
    "## Project Presentation : Machine Learning and Deep Learning Techniques in Network Intrusion Detection\n",
    "####                                                                        Aakash Chowdhury\n",
    "####                                                                        February 17, 2022                                 "
   ]
  },
  {
   "cell_type": "markdown",
   "id": "c4384b93",
   "metadata": {
    "slideshow": {
     "slide_type": "subslide"
    }
   },
   "source": [
    "### Keywords about Network Intrusion Detection:\n",
    "\n",
    " * **Intrusion** can be defined as some unauthorised activities that cause damage to an information system.  \n",
    " * Cyber-attacks are becoming more sophisticated and evolution of malicious sotware(malware) presenting challenges in accurately detecting intrusions.\n",
    " * An **Intrusion Detection System(IDS)** is to identify different kinds of malicious network traffic and computer usage, which cannot be identified by a traditional firewall.    \n",
    " * In **Anomaly-based Intrusion Detection System(AIDS)**, a normal model of the behavior of a computer system is create using machine learning, statistical-based or knowledge-based methods. Any significant deviation between observed behavior and the model is regarded as an anomoly or intrusion."
   ]
  },
  {
   "cell_type": "markdown",
   "id": "eca33fb5",
   "metadata": {
    "slideshow": {
     "slide_type": "subslide"
    }
   },
   "source": [
    "### An Overview of Data :\n",
    "* The dataset to be audited was provided which consists of a wide variety of intrusions simulated in a military network environment. It created an environment to acquire raw TCP/IP dump data for a network by simulating a typical US Air Force LAN. The LAN was focused like a real environment and blasted with multiple attacks. A connection is a sequence of TCP packets starting and ending at some time duration between which data flows to and from a source IP address to a target IP address under some well-defined protocol. Also, each connection is labelled as either normal or as an attack with exactly one specific attack type. Each connection record consists of about 100 bytes. \n",
    "  * For each TCP/IP connection, **41** quantitative and qualitative features are obtained from normal and attack data            (3 qualitative and 38 quantitative features). The **class variable**(decision vector) has two categories: **normal** and **anomalous**. \n",
    "  * The data has been collected from the kaggle page  <a href=\"https://www.kaggle.com/sampadab17/network-intrusion-detection\" target=\"_blank\">link</a>"
   ]
  },
  {
   "cell_type": "markdown",
   "id": "a95abddb",
   "metadata": {
    "slideshow": {
     "slide_type": "subslide"
    }
   },
   "source": [
    "### Learning Task:\n",
    "* My **learning task** is to build a suitable anomaly detector or an adequate binary classifier, which can classify anomaly. To serve the purpose, I'd like to investigate the common classification algorithms like **Logistic Regression**, **K-Nearest Neighbors**, **Support Vector Machines** and **Artificial Neural Network** to  accomplish this.\n",
    "* To measure the performances following two methods has been used.\n",
    "    * **Log loss** or **cross-entropy loss:** \n",
    "        $L_{\\log}(y,p) = -(y\\log(p) + (1-y)\\log(1-p)) $\n",
    "    * **Accuracy measure:**\n",
    "         $\\text{accuracy}(y, \\hat{y}) = \\frac{1}{n_{\\text{samples}}} \\sum_{i=0}^{n_{\\text{samples}}-1} 1(\\hat{y}_i = y_i) $ \n",
    "    * **Confusion metric** also be computed for visualisation.      \n",
    "        \n",
    "    \n",
    "    "
   ]
  },
  {
   "cell_type": "markdown",
   "id": "5204f615",
   "metadata": {
    "slideshow": {
     "slide_type": "subslide"
    }
   },
   "source": [
    "### Review of Literature: \n",
    "I have considerd two specific papers for my project:\n",
    " * \"Classification Techniques for Intrusion Detection An Overview\". <a href=\"file:///C:/Users/choaak/AppData/Local/Temp/Classification_Techniques_for_Intrusion_Detection_.pdf\" target=\"_blank\">link1</a>\n",
    " * \"Survey of intrusion detection systems: techniques, datasets and challenges\". <a href=\"https://cybersecurity.springeropen.com/track/pdf/10.1186/s42400-019-0038-7.pdf\" target=\"_blank\">link2</a>\n"
   ]
  },
  {
   "cell_type": "code",
   "execution_count": 3,
   "id": "d0bccadf",
   "metadata": {
    "slideshow": {
     "slide_type": "subslide"
    }
   },
   "outputs": [
    {
     "data": {
      "text/html": [
       "<div>\n",
       "<style scoped>\n",
       "    .dataframe tbody tr th:only-of-type {\n",
       "        vertical-align: middle;\n",
       "    }\n",
       "\n",
       "    .dataframe tbody tr th {\n",
       "        vertical-align: top;\n",
       "    }\n",
       "\n",
       "    .dataframe thead th {\n",
       "        text-align: right;\n",
       "    }\n",
       "</style>\n",
       "<table border=\"1\" class=\"dataframe\">\n",
       "  <thead>\n",
       "    <tr style=\"text-align: right;\">\n",
       "      <th></th>\n",
       "      <th>duration</th>\n",
       "      <th>protocol_type</th>\n",
       "      <th>service</th>\n",
       "      <th>flag</th>\n",
       "      <th>src_bytes</th>\n",
       "      <th>dst_bytes</th>\n",
       "      <th>land</th>\n",
       "      <th>wrong_fragment</th>\n",
       "      <th>urgent</th>\n",
       "      <th>hot</th>\n",
       "      <th>...</th>\n",
       "      <th>dst_host_srv_count</th>\n",
       "      <th>dst_host_same_srv_rate</th>\n",
       "      <th>dst_host_diff_srv_rate</th>\n",
       "      <th>dst_host_same_src_port_rate</th>\n",
       "      <th>dst_host_srv_diff_host_rate</th>\n",
       "      <th>dst_host_serror_rate</th>\n",
       "      <th>dst_host_srv_serror_rate</th>\n",
       "      <th>dst_host_rerror_rate</th>\n",
       "      <th>dst_host_srv_rerror_rate</th>\n",
       "      <th>class</th>\n",
       "    </tr>\n",
       "  </thead>\n",
       "  <tbody>\n",
       "    <tr>\n",
       "      <th>0</th>\n",
       "      <td>0</td>\n",
       "      <td>tcp</td>\n",
       "      <td>ftp_data</td>\n",
       "      <td>SF</td>\n",
       "      <td>491</td>\n",
       "      <td>0</td>\n",
       "      <td>0</td>\n",
       "      <td>0</td>\n",
       "      <td>0</td>\n",
       "      <td>0</td>\n",
       "      <td>...</td>\n",
       "      <td>25</td>\n",
       "      <td>0.17</td>\n",
       "      <td>0.03</td>\n",
       "      <td>0.17</td>\n",
       "      <td>0.00</td>\n",
       "      <td>0.00</td>\n",
       "      <td>0.00</td>\n",
       "      <td>0.05</td>\n",
       "      <td>0.00</td>\n",
       "      <td>normal</td>\n",
       "    </tr>\n",
       "    <tr>\n",
       "      <th>1</th>\n",
       "      <td>0</td>\n",
       "      <td>udp</td>\n",
       "      <td>other</td>\n",
       "      <td>SF</td>\n",
       "      <td>146</td>\n",
       "      <td>0</td>\n",
       "      <td>0</td>\n",
       "      <td>0</td>\n",
       "      <td>0</td>\n",
       "      <td>0</td>\n",
       "      <td>...</td>\n",
       "      <td>1</td>\n",
       "      <td>0.00</td>\n",
       "      <td>0.60</td>\n",
       "      <td>0.88</td>\n",
       "      <td>0.00</td>\n",
       "      <td>0.00</td>\n",
       "      <td>0.00</td>\n",
       "      <td>0.00</td>\n",
       "      <td>0.00</td>\n",
       "      <td>normal</td>\n",
       "    </tr>\n",
       "    <tr>\n",
       "      <th>2</th>\n",
       "      <td>0</td>\n",
       "      <td>tcp</td>\n",
       "      <td>private</td>\n",
       "      <td>S0</td>\n",
       "      <td>0</td>\n",
       "      <td>0</td>\n",
       "      <td>0</td>\n",
       "      <td>0</td>\n",
       "      <td>0</td>\n",
       "      <td>0</td>\n",
       "      <td>...</td>\n",
       "      <td>26</td>\n",
       "      <td>0.10</td>\n",
       "      <td>0.05</td>\n",
       "      <td>0.00</td>\n",
       "      <td>0.00</td>\n",
       "      <td>1.00</td>\n",
       "      <td>1.00</td>\n",
       "      <td>0.00</td>\n",
       "      <td>0.00</td>\n",
       "      <td>anomaly</td>\n",
       "    </tr>\n",
       "    <tr>\n",
       "      <th>3</th>\n",
       "      <td>0</td>\n",
       "      <td>tcp</td>\n",
       "      <td>http</td>\n",
       "      <td>SF</td>\n",
       "      <td>232</td>\n",
       "      <td>8153</td>\n",
       "      <td>0</td>\n",
       "      <td>0</td>\n",
       "      <td>0</td>\n",
       "      <td>0</td>\n",
       "      <td>...</td>\n",
       "      <td>255</td>\n",
       "      <td>1.00</td>\n",
       "      <td>0.00</td>\n",
       "      <td>0.03</td>\n",
       "      <td>0.04</td>\n",
       "      <td>0.03</td>\n",
       "      <td>0.01</td>\n",
       "      <td>0.00</td>\n",
       "      <td>0.01</td>\n",
       "      <td>normal</td>\n",
       "    </tr>\n",
       "  </tbody>\n",
       "</table>\n",
       "<p>4 rows × 42 columns</p>\n",
       "</div>"
      ],
      "text/plain": [
       "   duration protocol_type   service flag  src_bytes  dst_bytes  land  \\\n",
       "0         0           tcp  ftp_data   SF        491          0     0   \n",
       "1         0           udp     other   SF        146          0     0   \n",
       "2         0           tcp   private   S0          0          0     0   \n",
       "3         0           tcp      http   SF        232       8153     0   \n",
       "\n",
       "   wrong_fragment  urgent  hot  ...  dst_host_srv_count  \\\n",
       "0               0       0    0  ...                  25   \n",
       "1               0       0    0  ...                   1   \n",
       "2               0       0    0  ...                  26   \n",
       "3               0       0    0  ...                 255   \n",
       "\n",
       "   dst_host_same_srv_rate  dst_host_diff_srv_rate  \\\n",
       "0                    0.17                    0.03   \n",
       "1                    0.00                    0.60   \n",
       "2                    0.10                    0.05   \n",
       "3                    1.00                    0.00   \n",
       "\n",
       "   dst_host_same_src_port_rate  dst_host_srv_diff_host_rate  \\\n",
       "0                         0.17                         0.00   \n",
       "1                         0.88                         0.00   \n",
       "2                         0.00                         0.00   \n",
       "3                         0.03                         0.04   \n",
       "\n",
       "   dst_host_serror_rate  dst_host_srv_serror_rate  dst_host_rerror_rate  \\\n",
       "0                  0.00                      0.00                  0.05   \n",
       "1                  0.00                      0.00                  0.00   \n",
       "2                  1.00                      1.00                  0.00   \n",
       "3                  0.03                      0.01                  0.00   \n",
       "\n",
       "   dst_host_srv_rerror_rate    class  \n",
       "0                      0.00   normal  \n",
       "1                      0.00   normal  \n",
       "2                      0.00  anomaly  \n",
       "3                      0.01   normal  \n",
       "\n",
       "[4 rows x 42 columns]"
      ]
     },
     "execution_count": 3,
     "metadata": {},
     "output_type": "execute_result"
    }
   ],
   "source": [
    "# some initialization stuff\n",
    "#%run init.py\n",
    "#%matplotlib inlinefrom sklearn import svm\n",
    "from sklearn.feature_selection import SelectKBest\n",
    "from sklearn.feature_selection import chi2\n",
    "import numpy as np\n",
    "import matplotlib.pyplot as plt\n",
    "import pandas as pd\n",
    "from sklearn.preprocessing import StandardScaler\n",
    "from sklearn.model_selection import train_test_split\n",
    "from sklearn.linear_model import LogisticRegression\n",
    "from sklearn.model_selection import GridSearchCV\n",
    "from sklearn import metrics\n",
    "from sklearn.neighbors import KNeighborsClassifier\n",
    "from tqdm import tqdm\n",
    "import tensorflow.keras.initializers\n",
    "from tensorflow.keras import Sequential\n",
    "from tensorflow.keras.layers import Dense\n",
    "from sklearn import svm\n",
    "from sklearn.feature_selection import SelectKBest\n",
    "from sklearn.feature_selection import mutual_info_classif, f_classif\n",
    "\n",
    "train = pd.read_csv(\"Train_data.csv\")\n",
    "test = pd.read_csv(\"Test_data.csv\")\n",
    "\n",
    "#For having a look at the data before starting the analysis\n",
    "#print(np.shape(test)) To know the shape of the data\n",
    "#np.shape(train)\n",
    "train.head(4)"
   ]
  },
  {
   "cell_type": "code",
   "execution_count": 4,
   "id": "ce9df4b8",
   "metadata": {
    "slideshow": {
     "slide_type": "slide"
    }
   },
   "outputs": [
    {
     "data": {
      "text/plain": [
       "duration                         int64\n",
       "protocol_type                   object\n",
       "service                         object\n",
       "flag                            object\n",
       "src_bytes                        int64\n",
       "dst_bytes                        int64\n",
       "land                             int64\n",
       "wrong_fragment                   int64\n",
       "urgent                           int64\n",
       "hot                              int64\n",
       "num_failed_logins                int64\n",
       "logged_in                        int64\n",
       "num_compromised                  int64\n",
       "root_shell                       int64\n",
       "su_attempted                     int64\n",
       "num_root                         int64\n",
       "num_file_creations               int64\n",
       "num_shells                       int64\n",
       "num_access_files                 int64\n",
       "num_outbound_cmds                int64\n",
       "is_host_login                    int64\n",
       "is_guest_login                   int64\n",
       "count                            int64\n",
       "srv_count                        int64\n",
       "serror_rate                    float64\n",
       "srv_serror_rate                float64\n",
       "rerror_rate                    float64\n",
       "srv_rerror_rate                float64\n",
       "same_srv_rate                  float64\n",
       "diff_srv_rate                  float64\n",
       "srv_diff_host_rate             float64\n",
       "dst_host_count                   int64\n",
       "dst_host_srv_count               int64\n",
       "dst_host_same_srv_rate         float64\n",
       "dst_host_diff_srv_rate         float64\n",
       "dst_host_same_src_port_rate    float64\n",
       "dst_host_srv_diff_host_rate    float64\n",
       "dst_host_serror_rate           float64\n",
       "dst_host_srv_serror_rate       float64\n",
       "dst_host_rerror_rate           float64\n",
       "dst_host_srv_rerror_rate       float64\n",
       "class                           object\n",
       "dtype: object"
      ]
     },
     "execution_count": 4,
     "metadata": {},
     "output_type": "execute_result"
    }
   ],
   "source": [
    "train.dtypes\n",
    "#test.dtypes"
   ]
  },
  {
   "cell_type": "markdown",
   "id": "c81658f0",
   "metadata": {
    "slideshow": {
     "slide_type": "subslide"
    }
   },
   "source": [
    "### Preliminary Data Analysis:\n",
    "* **Encoding Categorical Features:**\n",
    "     As it is noticible from the data type of the train dataset that 4 variables(3 features and 1 decision vector) are of object type. So, our first task is to convert them into **numeric** so that they can be considered for machine learning or deep learning model inputs. \n",
    "* **Standardize the data:** Standardization of datasets is a common requirement for many machine learning estimators implemented in scikit-learn; they might behave badly if the individual features do not more or less look like standard normally distributed data: Gaussian with zero mean and unit variance. \n",
    "\n"
   ]
  },
  {
   "cell_type": "code",
   "execution_count": 5,
   "id": "ee27bcec",
   "metadata": {
    "slideshow": {
     "slide_type": "subslide"
    }
   },
   "outputs": [
    {
     "data": {
      "text/html": [
       "<div>\n",
       "<style scoped>\n",
       "    .dataframe tbody tr th:only-of-type {\n",
       "        vertical-align: middle;\n",
       "    }\n",
       "\n",
       "    .dataframe tbody tr th {\n",
       "        vertical-align: top;\n",
       "    }\n",
       "\n",
       "    .dataframe thead th {\n",
       "        text-align: right;\n",
       "    }\n",
       "</style>\n",
       "<table border=\"1\" class=\"dataframe\">\n",
       "  <thead>\n",
       "    <tr style=\"text-align: right;\">\n",
       "      <th></th>\n",
       "      <th>duration</th>\n",
       "      <th>protocol_type</th>\n",
       "      <th>service</th>\n",
       "      <th>flag</th>\n",
       "      <th>src_bytes</th>\n",
       "      <th>dst_bytes</th>\n",
       "      <th>land</th>\n",
       "      <th>wrong_fragment</th>\n",
       "      <th>urgent</th>\n",
       "      <th>hot</th>\n",
       "      <th>...</th>\n",
       "      <th>dst_host_srv_count</th>\n",
       "      <th>dst_host_same_srv_rate</th>\n",
       "      <th>dst_host_diff_srv_rate</th>\n",
       "      <th>dst_host_same_src_port_rate</th>\n",
       "      <th>dst_host_srv_diff_host_rate</th>\n",
       "      <th>dst_host_serror_rate</th>\n",
       "      <th>dst_host_srv_serror_rate</th>\n",
       "      <th>dst_host_rerror_rate</th>\n",
       "      <th>dst_host_srv_rerror_rate</th>\n",
       "      <th>class</th>\n",
       "    </tr>\n",
       "  </thead>\n",
       "  <tbody>\n",
       "    <tr>\n",
       "      <th>0</th>\n",
       "      <td>0</td>\n",
       "      <td>1</td>\n",
       "      <td>19</td>\n",
       "      <td>9</td>\n",
       "      <td>491</td>\n",
       "      <td>0</td>\n",
       "      <td>0</td>\n",
       "      <td>0</td>\n",
       "      <td>0</td>\n",
       "      <td>0</td>\n",
       "      <td>...</td>\n",
       "      <td>25</td>\n",
       "      <td>0.17</td>\n",
       "      <td>0.03</td>\n",
       "      <td>0.17</td>\n",
       "      <td>0.0</td>\n",
       "      <td>0.0</td>\n",
       "      <td>0.0</td>\n",
       "      <td>0.05</td>\n",
       "      <td>0.0</td>\n",
       "      <td>1</td>\n",
       "    </tr>\n",
       "    <tr>\n",
       "      <th>1</th>\n",
       "      <td>0</td>\n",
       "      <td>2</td>\n",
       "      <td>41</td>\n",
       "      <td>9</td>\n",
       "      <td>146</td>\n",
       "      <td>0</td>\n",
       "      <td>0</td>\n",
       "      <td>0</td>\n",
       "      <td>0</td>\n",
       "      <td>0</td>\n",
       "      <td>...</td>\n",
       "      <td>1</td>\n",
       "      <td>0.00</td>\n",
       "      <td>0.60</td>\n",
       "      <td>0.88</td>\n",
       "      <td>0.0</td>\n",
       "      <td>0.0</td>\n",
       "      <td>0.0</td>\n",
       "      <td>0.00</td>\n",
       "      <td>0.0</td>\n",
       "      <td>1</td>\n",
       "    </tr>\n",
       "  </tbody>\n",
       "</table>\n",
       "<p>2 rows × 42 columns</p>\n",
       "</div>"
      ],
      "text/plain": [
       "   duration  protocol_type  service  flag  src_bytes  dst_bytes  land  \\\n",
       "0         0              1       19     9        491          0     0   \n",
       "1         0              2       41     9        146          0     0   \n",
       "\n",
       "   wrong_fragment  urgent  hot  ...  dst_host_srv_count  \\\n",
       "0               0       0    0  ...                  25   \n",
       "1               0       0    0  ...                   1   \n",
       "\n",
       "   dst_host_same_srv_rate  dst_host_diff_srv_rate  \\\n",
       "0                    0.17                    0.03   \n",
       "1                    0.00                    0.60   \n",
       "\n",
       "   dst_host_same_src_port_rate  dst_host_srv_diff_host_rate  \\\n",
       "0                         0.17                          0.0   \n",
       "1                         0.88                          0.0   \n",
       "\n",
       "   dst_host_serror_rate  dst_host_srv_serror_rate  dst_host_rerror_rate  \\\n",
       "0                   0.0                       0.0                  0.05   \n",
       "1                   0.0                       0.0                  0.00   \n",
       "\n",
       "   dst_host_srv_rerror_rate  class  \n",
       "0                       0.0      1  \n",
       "1                       0.0      1  \n",
       "\n",
       "[2 rows x 42 columns]"
      ]
     },
     "execution_count": 5,
     "metadata": {},
     "output_type": "execute_result"
    }
   ],
   "source": [
    "#Label Encoding \n",
    "train[\"protocol_type\" ] = train[\"protocol_type\"].astype('category')\n",
    "train[\"service\" ] = train[\"service\"].astype('category')\n",
    "train[\"flag\" ] = train[\"flag\"].astype('category')\n",
    "train[\"class\" ] = train[\"class\"].astype('category')\n",
    "#-----------------------------------------------------------------------\n",
    "train[\"protocol_type\"] = train[\"protocol_type\"].cat.codes\n",
    "train[\"service\" ] = train[\"service\"].cat.codes\n",
    "train[\"flag\" ] = train[\"flag\"].cat.codes\n",
    "train[\"class\" ] = train[\"class\"].cat.codes\n",
    "train.head(2)"
   ]
  },
  {
   "cell_type": "code",
   "execution_count": 6,
   "id": "1991bd4e",
   "metadata": {
    "slideshow": {
     "slide_type": "slide"
    }
   },
   "outputs": [
    {
     "name": "stdout",
     "output_type": "stream",
     "text": [
      "(25192, 42)\n",
      "(25192, 41)\n",
      "[0 0 1 ... 1 1 1]\n",
      "[[-0.114 -0.126 -0.645  0.753 -0.01  -0.039 -0.009 -0.091 -0.006 -0.092\n",
      "  -0.026 -0.808 -0.022 -0.039 -0.028 -0.022 -0.028 -0.019 -0.044  0.\n",
      "   0.    -0.096 -0.72  -0.355 -0.64  -0.634 -0.372 -0.373  0.772 -0.349\n",
      "  -0.374 -0.329 -0.814 -0.779 -0.281  0.073 -0.288 -0.642 -0.627 -0.222\n",
      "  -0.374]\n",
      " [-0.114  2.216  0.769  0.753 -0.01  -0.039 -0.009 -0.091 -0.006 -0.092\n",
      "  -0.026 -0.808 -0.022 -0.039 -0.028 -0.022 -0.028 -0.019 -0.044  0.\n",
      "   0.    -0.096 -0.624 -0.368 -0.64  -0.634 -0.372 -0.373 -1.321  0.491\n",
      "  -0.374  0.732 -1.031 -1.158  2.764  2.376 -0.288 -0.642 -0.627 -0.385\n",
      "  -0.374]\n",
      " [-0.114 -0.126  1.09  -0.74  -0.01  -0.039 -0.009 -0.091 -0.006 -0.092\n",
      "  -0.026 -0.808 -0.022 -0.039 -0.028 -0.022 -0.028 -0.019 -0.044  0.\n",
      "   0.    -0.096  0.335 -0.299  1.595  1.6   -0.372 -0.373 -1.389  0.043\n",
      "  -0.374  0.732 -0.805 -0.935 -0.174 -0.478 -0.288  1.604  1.614 -0.385\n",
      "  -0.374]\n",
      " [-0.114 -0.126 -0.453  0.753 -0.01   0.052 -0.009 -0.091 -0.006 -0.092\n",
      "  -0.026  1.238 -0.022 -0.039 -0.028 -0.022 -0.028 -0.019 -0.044  0.\n",
      "   0.    -0.096 -0.694 -0.313 -0.193 -0.187 -0.372 -0.373  0.772 -0.349\n",
      "  -0.374 -1.541  1.265  1.07  -0.441 -0.381  0.074 -0.574 -0.605 -0.385\n",
      "  -0.343]\n",
      " [-0.114 -0.126 -0.453  0.753 -0.01  -0.035 -0.009 -0.091 -0.006 -0.092\n",
      "  -0.026  1.238 -0.022 -0.039 -0.028 -0.022 -0.028 -0.019 -0.044  0.\n",
      "   0.    -0.096 -0.476  0.059 -0.64  -0.634 -0.372 -0.373  0.772 -0.349\n",
      "  -0.023  0.732  1.265  1.07  -0.441 -0.478 -0.288 -0.642 -0.627 -0.385\n",
      "  -0.374]]\n"
     ]
    }
   ],
   "source": [
    "array = train.values \n",
    "print(np.shape(array))\n",
    "##Vector explanatory variables/input vector\n",
    "X_train = array[:,0:41]\n",
    "Y = np.array([(1-x) for x in array[:,41]])\n",
    "Y = Y.astype(int)\n",
    "X_test = test.values\n",
    "print(np.shape(X_train)) \n",
    "print(Y)\n",
    "#Standardize/Normalize the data--------------------------------\n",
    "scaler = StandardScaler().fit(X_train)\n",
    "rescaledX = scaler.transform(X_train)\n",
    "# summarize transformed data\n",
    "np.set_printoptions(precision=3)\n",
    "print(rescaledX[0:5,:])  "
   ]
  },
  {
   "cell_type": "code",
   "execution_count": 61,
   "id": "85cef5e2",
   "metadata": {
    "slideshow": {
     "slide_type": "subslide"
    }
   },
   "outputs": [
    {
     "data": {
      "text/html": [
       "<div>\n",
       "<style scoped>\n",
       "    .dataframe tbody tr th:only-of-type {\n",
       "        vertical-align: middle;\n",
       "    }\n",
       "\n",
       "    .dataframe tbody tr th {\n",
       "        vertical-align: top;\n",
       "    }\n",
       "\n",
       "    .dataframe thead th {\n",
       "        text-align: right;\n",
       "    }\n",
       "</style>\n",
       "<table border=\"1\" class=\"dataframe\">\n",
       "  <thead>\n",
       "    <tr style=\"text-align: right;\">\n",
       "      <th></th>\n",
       "      <th>duration</th>\n",
       "      <th>protocol_type</th>\n",
       "      <th>service</th>\n",
       "      <th>flag</th>\n",
       "      <th>src_bytes</th>\n",
       "      <th>dst_bytes</th>\n",
       "      <th>land</th>\n",
       "      <th>wrong_fragment</th>\n",
       "      <th>urgent</th>\n",
       "      <th>hot</th>\n",
       "      <th>...</th>\n",
       "      <th>dst_host_count</th>\n",
       "      <th>dst_host_srv_count</th>\n",
       "      <th>dst_host_same_srv_rate</th>\n",
       "      <th>dst_host_diff_srv_rate</th>\n",
       "      <th>dst_host_same_src_port_rate</th>\n",
       "      <th>dst_host_srv_diff_host_rate</th>\n",
       "      <th>dst_host_serror_rate</th>\n",
       "      <th>dst_host_srv_serror_rate</th>\n",
       "      <th>dst_host_rerror_rate</th>\n",
       "      <th>dst_host_srv_rerror_rate</th>\n",
       "    </tr>\n",
       "  </thead>\n",
       "  <tbody>\n",
       "    <tr>\n",
       "      <th>0</th>\n",
       "      <td>0</td>\n",
       "      <td>tcp</td>\n",
       "      <td>private</td>\n",
       "      <td>REJ</td>\n",
       "      <td>0</td>\n",
       "      <td>0</td>\n",
       "      <td>0</td>\n",
       "      <td>0</td>\n",
       "      <td>0</td>\n",
       "      <td>0</td>\n",
       "      <td>...</td>\n",
       "      <td>255</td>\n",
       "      <td>10</td>\n",
       "      <td>0.04</td>\n",
       "      <td>0.06</td>\n",
       "      <td>0.00</td>\n",
       "      <td>0.00</td>\n",
       "      <td>0.0</td>\n",
       "      <td>0.0</td>\n",
       "      <td>1.0</td>\n",
       "      <td>1.0</td>\n",
       "    </tr>\n",
       "    <tr>\n",
       "      <th>1</th>\n",
       "      <td>0</td>\n",
       "      <td>tcp</td>\n",
       "      <td>private</td>\n",
       "      <td>REJ</td>\n",
       "      <td>0</td>\n",
       "      <td>0</td>\n",
       "      <td>0</td>\n",
       "      <td>0</td>\n",
       "      <td>0</td>\n",
       "      <td>0</td>\n",
       "      <td>...</td>\n",
       "      <td>255</td>\n",
       "      <td>1</td>\n",
       "      <td>0.00</td>\n",
       "      <td>0.06</td>\n",
       "      <td>0.00</td>\n",
       "      <td>0.00</td>\n",
       "      <td>0.0</td>\n",
       "      <td>0.0</td>\n",
       "      <td>1.0</td>\n",
       "      <td>1.0</td>\n",
       "    </tr>\n",
       "    <tr>\n",
       "      <th>2</th>\n",
       "      <td>2</td>\n",
       "      <td>tcp</td>\n",
       "      <td>ftp_data</td>\n",
       "      <td>SF</td>\n",
       "      <td>12983</td>\n",
       "      <td>0</td>\n",
       "      <td>0</td>\n",
       "      <td>0</td>\n",
       "      <td>0</td>\n",
       "      <td>0</td>\n",
       "      <td>...</td>\n",
       "      <td>134</td>\n",
       "      <td>86</td>\n",
       "      <td>0.61</td>\n",
       "      <td>0.04</td>\n",
       "      <td>0.61</td>\n",
       "      <td>0.02</td>\n",
       "      <td>0.0</td>\n",
       "      <td>0.0</td>\n",
       "      <td>0.0</td>\n",
       "      <td>0.0</td>\n",
       "    </tr>\n",
       "    <tr>\n",
       "      <th>3</th>\n",
       "      <td>0</td>\n",
       "      <td>icmp</td>\n",
       "      <td>eco_i</td>\n",
       "      <td>SF</td>\n",
       "      <td>20</td>\n",
       "      <td>0</td>\n",
       "      <td>0</td>\n",
       "      <td>0</td>\n",
       "      <td>0</td>\n",
       "      <td>0</td>\n",
       "      <td>...</td>\n",
       "      <td>3</td>\n",
       "      <td>57</td>\n",
       "      <td>1.00</td>\n",
       "      <td>0.00</td>\n",
       "      <td>1.00</td>\n",
       "      <td>0.28</td>\n",
       "      <td>0.0</td>\n",
       "      <td>0.0</td>\n",
       "      <td>0.0</td>\n",
       "      <td>0.0</td>\n",
       "    </tr>\n",
       "  </tbody>\n",
       "</table>\n",
       "<p>4 rows × 41 columns</p>\n",
       "</div>"
      ],
      "text/plain": [
       "   duration protocol_type   service flag  src_bytes  dst_bytes  land  \\\n",
       "0         0           tcp   private  REJ          0          0     0   \n",
       "1         0           tcp   private  REJ          0          0     0   \n",
       "2         2           tcp  ftp_data   SF      12983          0     0   \n",
       "3         0          icmp     eco_i   SF         20          0     0   \n",
       "\n",
       "   wrong_fragment  urgent  hot  ...  dst_host_count  dst_host_srv_count  \\\n",
       "0               0       0    0  ...             255                  10   \n",
       "1               0       0    0  ...             255                   1   \n",
       "2               0       0    0  ...             134                  86   \n",
       "3               0       0    0  ...               3                  57   \n",
       "\n",
       "   dst_host_same_srv_rate  dst_host_diff_srv_rate  \\\n",
       "0                    0.04                    0.06   \n",
       "1                    0.00                    0.06   \n",
       "2                    0.61                    0.04   \n",
       "3                    1.00                    0.00   \n",
       "\n",
       "   dst_host_same_src_port_rate  dst_host_srv_diff_host_rate  \\\n",
       "0                         0.00                         0.00   \n",
       "1                         0.00                         0.00   \n",
       "2                         0.61                         0.02   \n",
       "3                         1.00                         0.28   \n",
       "\n",
       "   dst_host_serror_rate  dst_host_srv_serror_rate  dst_host_rerror_rate  \\\n",
       "0                   0.0                       0.0                   1.0   \n",
       "1                   0.0                       0.0                   1.0   \n",
       "2                   0.0                       0.0                   0.0   \n",
       "3                   0.0                       0.0                   0.0   \n",
       "\n",
       "   dst_host_srv_rerror_rate  \n",
       "0                       1.0  \n",
       "1                       1.0  \n",
       "2                       0.0  \n",
       "3                       0.0  \n",
       "\n",
       "[4 rows x 41 columns]"
      ]
     },
     "execution_count": 61,
     "metadata": {},
     "output_type": "execute_result"
    }
   ],
   "source": [
    "test.head(4)"
   ]
  },
  {
   "cell_type": "markdown",
   "id": "9e126bfc",
   "metadata": {
    "slideshow": {
     "slide_type": "subslide"
    }
   },
   "source": [
    "### Splitting Train data:\n",
    "* It can be clearly observable that the test data doesnot have the the column of decison variable(class variable). Therefore, it is necessary to split our train data for model validation/performance checking purposes. For my implementation, I have considered **2:1** ratio for train(67%) and test(33%) respectively. After Spliting, i have got the following data structure for train and test data.   \n",
    "* For application of this method I have considered following sklearn page **https://scikit-learn.org/stable/modules/generated/sklearn.model_selection.train_test_split.html**."
   ]
  },
  {
   "cell_type": "code",
   "execution_count": 7,
   "id": "9778a355",
   "metadata": {
    "slideshow": {
     "slide_type": "subslide"
    }
   },
   "outputs": [
    {
     "name": "stdout",
     "output_type": "stream",
     "text": [
      "(16878, 41) (8314, 41) (16878,) (8314,)\n"
     ]
    }
   ],
   "source": [
    "# split into train and test datasets\n",
    "X_train, X_test, y_train, y_test = train_test_split(rescaledX, Y, test_size=0.33)\n",
    "print(X_train.shape, X_test.shape, y_train.shape, y_test.shape)"
   ]
  },
  {
   "cell_type": "markdown",
   "id": "f5841507",
   "metadata": {
    "slideshow": {
     "slide_type": "subslide"
    }
   },
   "source": [
    "### Implementing Multi-feature Logistic Regression:\n",
    "\n",
    "* The first method that I have implemented on the training set is the **multivariate logistic regression**. I didnot impose the usual statistical logistic regression model rather than I have implemented the machine learning based approach, where **gradient descent algorithm** has been applied to determine the coeffcients of the model. \n",
    "* Logistic regression is the quiet common method that has been used to calculate the probability of the individual corresponding to two classes, so that it can be possible to conclude where the individual should be classified.  \n"
   ]
  },
  {
   "cell_type": "code",
   "execution_count": 62,
   "id": "05c5e0f1",
   "metadata": {
    "slideshow": {
     "slide_type": "subslide"
    }
   },
   "outputs": [
    {
     "name": "stdout",
     "output_type": "stream",
     "text": [
      "  liblinear 0.956\n",
      "  newton-cg 0.956\n",
      "  lbfgs 0.956\n",
      "  sag 0.956\n",
      "  saga 0.955\n"
     ]
    }
   ],
   "source": [
    "#Implementing Logistic regression by machine learning approavh for binary classification-------------------\n",
    "#Consider all the methods-----------------------------------------------------\n",
    "solver_list = ['liblinear', 'newton-cg', 'lbfgs', 'sag', 'saga']\n",
    "params = dict(solver=solver_list)\n",
    "# instantiate the model (using the default parameters)\n",
    "logreg = LogisticRegression(max_iter = 10000)\n",
    "clf = GridSearchCV(logreg, params, cv=5)\n",
    "# fit the model with data-------------------------------------\n",
    "clf.fit(X_train,y_train, sample_weight= np.random.uniform(0,1, len(y_train)))\n",
    "##Check Comparison of Scores---------------------------------\n",
    "scores = clf.cv_results_['mean_test_score']\n",
    "for score, solver in zip(scores, solver_list):\n",
    "    print(f\"  {solver} {score:.3f}\" )"
   ]
  },
  {
   "cell_type": "code",
   "execution_count": 62,
   "id": "af58b6a1",
   "metadata": {
    "slideshow": {
     "slide_type": "subslide"
    }
   },
   "outputs": [
    {
     "name": "stdout",
     "output_type": "stream",
     "text": [
      "The binary cross entropy loss is : 0.11882140342150943\n",
      "The accuracy score is : 0.9568198219870099\n"
     ]
    },
    {
     "data": {
      "text/plain": [
       "array([[4324,  137],\n",
       "       [ 222, 3631]], dtype=int64)"
      ]
     },
     "execution_count": 62,
     "metadata": {},
     "output_type": "execute_result"
    }
   ],
   "source": [
    "#Predicted values and probabilities------------------------------------\n",
    "Y_pred_log = clf.predict(X_test)\n",
    "pred_probabilities = clf.predict_proba(X_test)\n",
    "\n",
    "# Evaluation of the prediction\n",
    "print(\"The binary cross entropy loss is : {}\".format(metrics.log_loss(y_test, pred_probabilities)))\n",
    "print(\"The accuracy score is : {}\".format(metrics.accuracy_score(y_test,Y_pred_log)))\n",
    "#Confusion matrix----------------------------------------\n",
    "cnf_matrix1 = metrics.confusion_matrix(y_test, Y_pred_log)\n",
    "cnf_matrix1"
   ]
  },
  {
   "cell_type": "markdown",
   "id": "e7ce8203",
   "metadata": {
    "slideshow": {
     "slide_type": "subslide"
    }
   },
   "source": [
    "### Support Vector Machine(SVM):\n",
    "* SVM is a disciminative classifier defined by splitting **hyperplane**.\n",
    "* SVMs use a **kernal** function to map the training data into a higher dimensioned space so that the intrusion is **linearly** classified.\n",
    "* In IDS datasets, many features are redundant or less influential in separating data points into correct classes. Therfore **features selection** should be considered in SVM training. "
   ]
  },
  {
   "cell_type": "code",
   "execution_count": 60,
   "id": "36be94ae",
   "metadata": {
    "slideshow": {
     "slide_type": "subslide"
    }
   },
   "outputs": [
    {
     "name": "stdout",
     "output_type": "stream",
     "text": [
      "Accuracy of svm: 0.8468847726726004\n",
      "The binary cross entropy loss is : 0.575747\n",
      "confusion matrix is: \n",
      " [[3749  647]\n",
      " [ 626 3292]]\n"
     ]
    }
   ],
   "source": [
    "#Implementation of Support Vector Machine-------------------------------------------------------\n",
    "\n",
    "#Feature Selection------------------------------------------------------------------------------\n",
    "fs = SelectKBest(score_func=mutual_info_classif, k = 30)\n",
    "fs.fit(X_train, y_train)\n",
    "X_train_fs = fs.transform(X_train)\n",
    "X_test_fs = fs.transform(X_test)\n",
    "\n",
    "#By using sigmoid kernal------------------------------------------------------------------------\n",
    "clf_svm = svm.SVC(kernel='sigmoid',coef0= 0, probability=True)\n",
    "clf_svm.fit(X_train_fs,y_train, sample_weight= np.random.uniform(0,1, len(y_train)))\n",
    "y_pred_svm = clf_svm.predict(X_test_fs)\n",
    "pred_prob_svm = clf_svm.predict_proba(X_test_fs)\n",
    "#-----------------------------------------------------------------------------------------------\n",
    "#clf_svm = svm.SVC(kernel='sigmoid',coef0= 0, probability=True)\n",
    "#clf_svm.fit(X_train,y_train, sample_weight= np.random.uniform(0,1, len(y_train)))\n",
    "#y_pred_svm = clf_svm.predict(X_test)\n",
    "#pred_prob_svm = clf_svm.predict_proba(X_test)\n",
    "\n",
    "\n",
    "print(\"Accuracy of svm:\",metrics.accuracy_score(y_test, y_pred_svm))\n",
    "print(\"The binary cross entropy loss is : %f\" % metrics.log_loss(y_test, pred_prob_svm))\n",
    "print(\"confusion matrix is: \\n\" ,metrics.confusion_matrix(y_test, y_pred_svm))"
   ]
  },
  {
   "cell_type": "markdown",
   "id": "ca5c4341",
   "metadata": {
    "slideshow": {
     "slide_type": "subslide"
    }
   },
   "source": [
    "### k-Nearest Neighbor Classifier (k-NN classifier):\n",
    "* Typical Non-parametric classification technique.\n",
    "* The idea of this technique is to name an unlabelled data sample to the class of its k nearest neighbors."
   ]
  },
  {
   "cell_type": "code",
   "execution_count": 10,
   "id": "7e5f8b81",
   "metadata": {
    "slideshow": {
     "slide_type": "subslide"
    }
   },
   "outputs": [
    {
     "name": "stderr",
     "output_type": "stream",
     "text": [
      "100%|██████████████████████████████████████████████████████████████████████████████████| 39/39 [02:45<00:00,  4.25s/it]\n"
     ]
    }
   ],
   "source": [
    "#Implementation of KNN Classification-----------------------------------------------------------\n",
    "error=[]\n",
    "loss=[]\n",
    "for i in tqdm(range(1, 40)):\n",
    "    knn = KNeighborsClassifier(n_neighbors=i)\n",
    "    knn.fit(X_train, y_train)\n",
    "    pred_i = knn.predict(X_test)\n",
    "    pred_prob_i = knn.predict_proba(X_test)\n",
    "    error.append(np.mean(pred_i != y_test))\n",
    "    loss.append(metrics.log_loss(y_test, pred_prob_i))"
   ]
  },
  {
   "cell_type": "code",
   "execution_count": 11,
   "id": "b37e6234",
   "metadata": {
    "slideshow": {
     "slide_type": "subslide"
    }
   },
   "outputs": [
    {
     "data": {
      "image/png": "[encoded data removed]",
      "text/plain": [
       "<Figure size 864x432 with 1 Axes>"
      ]
     },
     "metadata": {
      "needs_background": "light"
     },
     "output_type": "display_data"
    }
   ],
   "source": [
    "#Plot error rate and loss function for K-Nearest Neighbor method --------------------------------------------\n",
    "fig = plt.figure(figsize=(12, 6))\n",
    "ax = plt.axes()\n",
    "ax.plot(range(1, 40), error, color='red', linestyle='dashed', marker='o',\n",
    "         markerfacecolor='blue', markersize=2, label = 'Error rate')\n",
    "ax.plot(range(1, 40), loss, color='grey', linestyle='dashed', marker='o',\n",
    "         markerfacecolor='white', markersize=2 , label = 'Loss function')\n",
    "plt.title('Error Rate & Loss function vs. K Value')\n",
    "plt.xlabel('K Value')\n",
    "plt.ylabel('Mean Error & Loss function')\n",
    "ax.legend()\n",
    "plt.show()"
   ]
  },
  {
   "cell_type": "code",
   "execution_count": 9,
   "id": "9f9a452b",
   "metadata": {
    "slideshow": {
     "slide_type": "subslide"
    }
   },
   "outputs": [
    {
     "name": "stdout",
     "output_type": "stream",
     "text": [
      "[[4353   38]\n",
      " [  61 3862]]\n",
      "The binary cross entropy loss is : 0.032381\n",
      "The accuracy score is : 0.9880923743083955\n"
     ]
    }
   ],
   "source": [
    "#Final KNN classifier outcome-------------------------------------------------------------\n",
    "classifier = KNeighborsClassifier(n_neighbors = 22)\n",
    "classifier.fit(X_train, y_train)\n",
    "Y_pred_KNN = classifier.predict(X_test)\n",
    "cnf_matrix2 = metrics.confusion_matrix(y_test, Y_pred_KNN)\n",
    "print(cnf_matrix2)\n",
    "pred_prob = classifier.predict_proba(X_test)\n",
    "print(\"The binary cross entropy loss is : %f\" % metrics.log_loss(y_test, pred_prob))\n",
    "print(\"The accuracy score is : {}\".format(metrics.accuracy_score(y_test,Y_pred_KNN)))"
   ]
  },
  {
   "cell_type": "markdown",
   "id": "7601ce14",
   "metadata": {
    "slideshow": {
     "slide_type": "-"
    }
   },
   "source": [
    "### Artificial Neural Network (ANN):\n",
    "Artificial neural Network is quiet a poular machine learning and deep learning methods which has been shown to be successful in detecting different malware."
   ]
  },
  {
   "cell_type": "code",
   "execution_count": 63,
   "id": "ce274ee8",
   "metadata": {
    "slideshow": {
     "slide_type": "subslide"
    }
   },
   "outputs": [],
   "source": [
    "#Implementation Multi Layer Artificial Neural Network-----------------------------------------\n",
    "initializer1 = tensorflow.keras.initializers.RandomNormal(mean=0., stddev=1.) #initialize the weights\n",
    "initializer2 = tensorflow.keras.initializers.RandomUniform(minval=0., maxval=1.)\n",
    "def A_NN(epoch , NN1, NN2 , actv_final, c_metric):\n",
    "    \n",
    "    # determine the number of input features\n",
    "    n_features = X_train.shape[1]\n",
    "    # define model\n",
    "    model = Sequential()\n",
    "    model.add(Dense(NN1, activation='relu', kernel_initializer= initializer1, input_shape=(n_features,)))\n",
    "    model.add(Dense(NN2, activation='relu', kernel_initializer= initializer1 ))\n",
    "    model.add(Dense(1, activation= actv_final))\n",
    "    # compile the model\n",
    "    model.compile(optimizer='adam', loss='binary_crossentropy', metrics=['accuracy'])\n",
    "    # fit the model\n",
    "    model.fit(X_train, y_train, epochs= epoch, batch_size=32, verbose=0)\n",
    "    # Test the model after training\n",
    "    if c_metric == False:\n",
    "        test_results = model.evaluate(X_test, y_test, verbose=1)\n",
    "        return test_results\n",
    "    if c_metric == True:\n",
    "        predictions = model.predict(X_test)\n",
    "        prediction_classes = [ 1 if prob > 0.5 else 0 for prob in np.ravel(predictions)]\n",
    "        cm = metrics.confusion_matrix(y_test, prediction_classes)\n",
    "        return cm"
   ]
  },
  {
   "cell_type": "code",
   "execution_count": null,
   "id": "7c1e0383",
   "metadata": {},
   "outputs": [],
   "source": [
    "for epoch in tqdm(range(5,100,5)):\n",
    "    for NN1 in range(5,30,4):\n",
    "        for NN2 in range(5,30,4):\n",
    "                print(\"epoch value = {}, NN1={} NN2={}\".format(epoch, NN1, NN2))\n",
    "                A_NN(epoch , NN1, NN2 , 'sigmoid')\n",
    "                A_NN(epoch , NN1, NN2 , 'tanh')"
   ]
  },
  {
   "cell_type": "code",
   "execution_count": 10,
   "id": "f9dd3a7e",
   "metadata": {
    "slideshow": {
     "slide_type": "slide"
    }
   },
   "outputs": [
    {
     "name": "stderr",
     "output_type": "stream",
     "text": [
      "\r",
      "  0%|                                                                                           | 0/19 [00:00<?, ?it/s]"
     ]
    },
    {
     "name": "stdout",
     "output_type": "stream",
     "text": [
      "epoch value = 5\n",
      "8314/8314 [==============================] - 0s 21us/sample - loss: 0.0938 - accuracy: 0.9670\n",
      "8314/8314 [==============================] - 0s 22us/sample - loss: 6.0772 - accuracy: 0.5849\n"
     ]
    },
    {
     "name": "stderr",
     "output_type": "stream",
     "text": [
      "\r",
      "  5%|████▎                                                                              | 1/19 [00:04<01:24,  4.67s/it]"
     ]
    },
    {
     "name": "stdout",
     "output_type": "stream",
     "text": [
      "epoch value = 10\n",
      "8314/8314 [==============================] - 0s 20us/sample - loss: 0.0633 - accuracy: 0.9769\n",
      "8314/8314 [==============================] - 0s 21us/sample - loss: 0.8509 - accuracy: 0.9265\n"
     ]
    },
    {
     "name": "stderr",
     "output_type": "stream",
     "text": [
      "\r",
      " 11%|████████▋                                                                          | 2/19 [00:12<01:49,  6.46s/it]"
     ]
    },
    {
     "name": "stdout",
     "output_type": "stream",
     "text": [
      "epoch value = 15\n",
      "8314/8314 [==============================] - 0s 20us/sample - loss: 0.0940 - accuracy: 0.9805\n",
      "8314/8314 [==============================] - 0s 21us/sample - loss: 0.6747 - accuracy: 0.9436\n"
     ]
    },
    {
     "name": "stderr",
     "output_type": "stream",
     "text": [
      "\r",
      " 16%|█████████████                                                                      | 3/19 [00:23<02:16,  8.54s/it]"
     ]
    },
    {
     "name": "stdout",
     "output_type": "stream",
     "text": [
      "epoch value = 20\n",
      "8314/8314 [==============================] - 0s 21us/sample - loss: 0.0467 - accuracy: 0.9840\n",
      "8314/8314 [==============================] - 0s 21us/sample - loss: 0.3764 - accuracy: 0.9631\n"
     ]
    },
    {
     "name": "stderr",
     "output_type": "stream",
     "text": [
      "\r",
      " 21%|█████████████████▍                                                                 | 4/19 [00:37<02:41, 10.80s/it]"
     ]
    },
    {
     "name": "stdout",
     "output_type": "stream",
     "text": [
      "epoch value = 25\n",
      "8314/8314 [==============================] - 0s 20us/sample - loss: 0.0445 - accuracy: 0.9866\n",
      "8314/8314 [==============================] - 0s 20us/sample - loss: 1.3183 - accuracy: 0.9128\n"
     ]
    },
    {
     "name": "stderr",
     "output_type": "stream",
     "text": [
      "\r",
      " 26%|█████████████████████▊                                                             | 5/19 [00:55<03:04, 13.19s/it]"
     ]
    },
    {
     "name": "stdout",
     "output_type": "stream",
     "text": [
      "epoch value = 30\n",
      "8314/8314 [==============================] - 0s 20us/sample - loss: 0.0546 - accuracy: 0.9835\n",
      "8314/8314 [==============================] - 0s 21us/sample - loss: 0.9757 - accuracy: 0.9328\n"
     ]
    },
    {
     "name": "stderr",
     "output_type": "stream",
     "text": [
      "\r",
      " 32%|██████████████████████████▏                                                        | 6/19 [01:16<03:26, 15.85s/it]"
     ]
    },
    {
     "name": "stdout",
     "output_type": "stream",
     "text": [
      "epoch value = 35\n",
      "8314/8314 [==============================] - 0s 20us/sample - loss: 0.0496 - accuracy: 0.9832\n",
      "8314/8314 [==============================] - 0s 21us/sample - loss: 0.3662 - accuracy: 0.9719\n"
     ]
    },
    {
     "name": "stderr",
     "output_type": "stream",
     "text": [
      "\r",
      " 37%|██████████████████████████████▌                                                    | 7/19 [01:40<03:42, 18.57s/it]"
     ]
    },
    {
     "name": "stdout",
     "output_type": "stream",
     "text": [
      "epoch value = 40\n",
      "8314/8314 [==============================] - 0s 20us/sample - loss: 0.0519 - accuracy: 0.9848\n",
      "8314/8314 [==============================] - 0s 21us/sample - loss: 0.2369 - accuracy: 0.9767\n"
     ]
    },
    {
     "name": "stderr",
     "output_type": "stream",
     "text": [
      "\r",
      " 42%|██████████████████████████████████▉                                                | 8/19 [02:07<03:55, 21.41s/it]"
     ]
    },
    {
     "name": "stdout",
     "output_type": "stream",
     "text": [
      "epoch value = 45\n",
      "8314/8314 [==============================] - 0s 22us/sample - loss: 0.0471 - accuracy: 0.9868\n",
      "8314/8314 [==============================] - 0s 21us/sample - loss: 0.4515 - accuracy: 0.9673\n"
     ]
    },
    {
     "name": "stderr",
     "output_type": "stream",
     "text": [
      "\r",
      " 47%|███████████████████████████████████████▎                                           | 9/19 [02:38<04:02, 24.28s/it]"
     ]
    },
    {
     "name": "stdout",
     "output_type": "stream",
     "text": [
      "epoch value = 50\n",
      "8314/8314 [==============================] - 0s 20us/sample - loss: 0.0777 - accuracy: 0.9894\n",
      "8314/8314 [==============================] - 0s 21us/sample - loss: 0.1139 - accuracy: 0.9822\n"
     ]
    },
    {
     "name": "stderr",
     "output_type": "stream",
     "text": [
      "\r",
      " 53%|███████████████████████████████████████████▏                                      | 10/19 [03:13<04:08, 27.56s/it]"
     ]
    },
    {
     "name": "stdout",
     "output_type": "stream",
     "text": [
      "epoch value = 55\n",
      "8314/8314 [==============================] - 0s 21us/sample - loss: 0.0457 - accuracy: 0.9880\n",
      "8314/8314 [==============================] - 0s 20us/sample - loss: 7.1893 - accuracy: 0.5339\n"
     ]
    },
    {
     "name": "stderr",
     "output_type": "stream",
     "text": [
      "\r",
      " 58%|███████████████████████████████████████████████▍                                  | 11/19 [03:50<04:04, 30.58s/it]"
     ]
    },
    {
     "name": "stdout",
     "output_type": "stream",
     "text": [
      "epoch value = 60\n",
      "8314/8314 [==============================] - 0s 20us/sample - loss: 0.0369 - accuracy: 0.9906\n",
      "8314/8314 [==============================] - 0s 22us/sample - loss: 0.3689 - accuracy: 0.9727\n"
     ]
    },
    {
     "name": "stderr",
     "output_type": "stream",
     "text": [
      "\r",
      " 63%|███████████████████████████████████████████████████▊                              | 12/19 [04:31<03:55, 33.64s/it]"
     ]
    },
    {
     "name": "stdout",
     "output_type": "stream",
     "text": [
      "epoch value = 65\n",
      "8314/8314 [==============================] - 0s 20us/sample - loss: 0.0460 - accuracy: 0.9899\n",
      "8314/8314 [==============================] - 0s 21us/sample - loss: 0.1547 - accuracy: 0.9850\n"
     ]
    },
    {
     "name": "stderr",
     "output_type": "stream",
     "text": [
      "\r",
      " 68%|████████████████████████████████████████████████████████                          | 13/19 [05:15<03:40, 36.77s/it]"
     ]
    },
    {
     "name": "stdout",
     "output_type": "stream",
     "text": [
      "epoch value = 70\n",
      "8314/8314 [==============================] - 0s 22us/sample - loss: 0.0357 - accuracy: 0.9912\n",
      "8314/8314 [==============================] - 0s 20us/sample - loss: 0.2640 - accuracy: 0.9765\n"
     ]
    },
    {
     "name": "stderr",
     "output_type": "stream",
     "text": [
      "\r",
      " 74%|████████████████████████████████████████████████████████████▍                     | 14/19 [06:04<03:21, 40.39s/it]"
     ]
    },
    {
     "name": "stdout",
     "output_type": "stream",
     "text": [
      "epoch value = 75\n",
      "8314/8314 [==============================] - 0s 20us/sample - loss: 0.0397 - accuracy: 0.9874\n",
      "8314/8314 [==============================] - 0s 20us/sample - loss: 1.1599 - accuracy: 0.9234\n"
     ]
    },
    {
     "name": "stderr",
     "output_type": "stream",
     "text": [
      "\r",
      " 79%|████████████████████████████████████████████████████████████████▋                 | 15/19 [06:54<02:54, 43.56s/it]"
     ]
    },
    {
     "name": "stdout",
     "output_type": "stream",
     "text": [
      "epoch value = 80\n",
      "8314/8314 [==============================] - 0s 21us/sample - loss: 0.0479 - accuracy: 0.9885\n",
      "8314/8314 [==============================] - 0s 21us/sample - loss: 0.1839 - accuracy: 0.9840\n"
     ]
    },
    {
     "name": "stderr",
     "output_type": "stream",
     "text": [
      "\r",
      " 84%|█████████████████████████████████████████████████████████████████████             | 16/19 [07:48<02:19, 46.66s/it]"
     ]
    },
    {
     "name": "stdout",
     "output_type": "stream",
     "text": [
      "epoch value = 85\n",
      "8314/8314 [==============================] - 0s 20us/sample - loss: 0.0533 - accuracy: 0.9887\n",
      "8314/8314 [==============================] - 0s 35us/sample - loss: 0.1173 - accuracy: 0.9844\n"
     ]
    },
    {
     "name": "stderr",
     "output_type": "stream",
     "text": [
      "\r",
      " 89%|█████████████████████████████████████████████████████████████████████████▎        | 17/19 [08:47<01:40, 50.42s/it]"
     ]
    },
    {
     "name": "stdout",
     "output_type": "stream",
     "text": [
      "epoch value = 90\n",
      "8314/8314 [==============================] - 0s 20us/sample - loss: 0.1380 - accuracy: 0.9857\n",
      "8314/8314 [==============================] - 0s 20us/sample - loss: 0.1146 - accuracy: 0.9859\n"
     ]
    },
    {
     "name": "stderr",
     "output_type": "stream",
     "text": [
      "\r",
      " 95%|█████████████████████████████████████████████████████████████████████████████▋    | 18/19 [09:51<00:54, 54.46s/it]"
     ]
    },
    {
     "name": "stdout",
     "output_type": "stream",
     "text": [
      "epoch value = 95\n",
      "8314/8314 [==============================] - 0s 29us/sample - loss: 0.0682 - accuracy: 0.9904\n",
      "8314/8314 [==============================] - 0s 21us/sample - loss: 0.3091 - accuracy: 0.9782\n"
     ]
    },
    {
     "name": "stderr",
     "output_type": "stream",
     "text": [
      "100%|██████████████████████████████████████████████████████████████████████████████████| 19/19 [10:57<00:00, 34.59s/it]\n"
     ]
    }
   ],
   "source": [
    "#Computing error rate and binary loss of cross entropy for different epoch values -------------------------------\n",
    "NN1 = 8\n",
    "NN2 = 8\n",
    "A_NN_S = []\n",
    "A_NN_T = []\n",
    "for epoch in tqdm(range(5,100,5)):\n",
    "                print(\"epoch value = {}\".format(epoch, NN1, NN2))\n",
    "                A_NN_S.append(A_NN(epoch , NN1, NN2 , 'sigmoid',c_metric = False))\n",
    "                A_NN_T.append(A_NN(epoch , NN1, NN2 , 'tanh',c_metric = False))"
   ]
  },
  {
   "cell_type": "code",
   "execution_count": 23,
   "id": "86dfe522",
   "metadata": {},
   "outputs": [
    {
     "data": {
      "image/png": "[encoded data removed]",
      "text/plain": [
       "<Figure size 432x288 with 1 Axes>"
      ]
     },
     "metadata": {
      "needs_background": "light"
     },
     "output_type": "display_data"
    }
   ],
   "source": [
    "fig = plt.figure()\n",
    "ax = plt.axes()  \n",
    "\n",
    "ax.plot( list(range(5,100,5)) , [ A_NN_S[i][0] for i in range(len(A_NN_S))] ,color='red', linestyle='dashed', marker='o',\n",
    "         markerfacecolor='blue', markersize=3, label = 'binary_entropy')\n",
    "ax.plot( list(range(5,100,5)) , [(1 - A_NN_S[i][1]) for i in range(len(A_NN_S))] ,color='grey', linestyle='dashed', marker='o',\n",
    "         markerfacecolor='white', markersize=3, label = 'accuracy')\n",
    "plt.title('Sigmoid Activation Function')\n",
    "plt.xlabel('epochs')\n",
    "plt.ylabel('Cross Entropy & Accuracy')\n",
    "ax.legend()\n",
    "plt.show()"
   ]
  },
  {
   "cell_type": "code",
   "execution_count": 19,
   "id": "d572786e",
   "metadata": {},
   "outputs": [
    {
     "data": {
      "image/png": "[encoded data removed]",
      "text/plain": [
       "<Figure size 432x288 with 1 Axes>"
      ]
     },
     "metadata": {
      "needs_background": "light"
     },
     "output_type": "display_data"
    }
   ],
   "source": [
    "fig = plt.figure()\n",
    "ax = plt.axes()       \n",
    "ax.plot( list(range(5,100,5)) , [A_NN_T[i][0] for i in range(len(A_NN_T))] ,color='red', linestyle='dashed', marker='o',\n",
    "         markerfacecolor='blue', markersize=3, label = 'binary_entropy')\n",
    "ax.plot( list(range(5,100,5)) , [A_NN_T[i][1] for i in range(len(A_NN_T))] ,color='grey', linestyle='dashed', marker='o',\n",
    "         markerfacecolor='white', markersize=3, label = 'accuracy')\n",
    "plt.title('tanh Activation Function')\n",
    "plt.xlabel('epochs')\n",
    "plt.ylabel('Cross Entropy & Accuracy')\n",
    "ax.legend()\n",
    "plt.show()"
   ]
  },
  {
   "cell_type": "code",
   "execution_count": 24,
   "id": "14693af8",
   "metadata": {
    "slideshow": {
     "slide_type": "subslide"
    }
   },
   "outputs": [
    {
     "name": "stdout",
     "output_type": "stream",
     "text": [
      "8314/8314 [==============================] - 0s 21us/sample - loss: 0.0566 - accuracy: 0.9869\n",
      "8314/8314 [==============================] - 0s 21us/sample - loss: 0.2836 - accuracy: 0.9792\n"
     ]
    }
   ],
   "source": [
    "test_res1 = A_NN(60, 8, 8, 'sigmoid',c_metric = False)\n",
    "test_res2 = A_NN(200,20, 20, 'tanh',c_metric = False)\n"
   ]
  },
  {
   "cell_type": "code",
   "execution_count": 64,
   "id": "c718b52b",
   "metadata": {},
   "outputs": [
    {
     "data": {
      "text/plain": [
       "array([[4373,   66],\n",
       "       [  39, 3836]], dtype=int64)"
      ]
     },
     "execution_count": 64,
     "metadata": {},
     "output_type": "execute_result"
    }
   ],
   "source": [
    "A_NN(60, 8, 8, 'sigmoid', c_metric = True )"
   ]
  },
  {
   "cell_type": "code",
   "execution_count": 65,
   "id": "93b73fb8",
   "metadata": {},
   "outputs": [
    {
     "data": {
      "text/plain": [
       "array([[4413,   26],\n",
       "       [ 164, 3711]], dtype=int64)"
      ]
     },
     "execution_count": 65,
     "metadata": {},
     "output_type": "execute_result"
    }
   ],
   "source": [
    "A_NN(200,20, 20, 'tanh',  c_metric = True )"
   ]
  },
  {
   "cell_type": "markdown",
   "id": "233365fe",
   "metadata": {
    "slideshow": {
     "slide_type": "slide"
    }
   },
   "source": [
    "### Conclusion:\n",
    "* After implementation of the four underlined methods, it has been found that k-NN classfier and A-NN perform relatively better than the SVM and logistic regression classifier both in terms of cross entropy loss and the accuracy for the given data. \n",
    "* In ANN method **sigmoid** activation function performs better than **tanh** both in terms of convergence stability and the performance mesaures for diffrent values of multilayer neurons and epochs. \n",
    "\n",
    "### Further/Future Research Direction:\n",
    "* We have to check the accuracy of our models into different data and can mesaure robustness of the models.\n",
    "* We can also add another two popular statistical learning methods with these four. viz. **Decision trees** and **Hidden Markov model** \n",
    "* Also i would like to investigate the application of Convolution Neural Network(CNN) in different time series or sequential Network Intrusion Dataset."
   ]
  }
 ],
 "metadata": {
  "celltoolbar": "Slideshow",
  "kernelspec": {
   "display_name": "Python 3 (ipykernel)",
   "language": "python",
   "name": "python3"
  },
  "language_info": {
   "codemirror_mode": {
    "name": "ipython",
    "version": 3
   },
   "file_extension": ".py",
   "mimetype": "text/x-python",
   "name": "python",
   "nbconvert_exporter": "python",
   "pygments_lexer": "ipython3",
   "version": "3.7.11"
  }
 },
 "nbformat": 4,
 "nbformat_minor": 5
}
